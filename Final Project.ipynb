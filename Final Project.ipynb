{
 "cells": [
  {
   "cell_type": "markdown",
   "metadata": {},
   "source": [
    "### CS181 Final Project\n",
    "### Data Collection Notebook"
   ]
  },
  {
   "cell_type": "code",
   "execution_count": 1,
   "metadata": {},
   "outputs": [],
   "source": [
    "import json\n",
    "import requests"
   ]
  },
  {
   "cell_type": "code",
   "execution_count": 2,
   "metadata": {
    "scrolled": true
   },
   "outputs": [
    {
     "name": "stdout",
     "output_type": "stream",
     "text": [
      "{'clientid': 'acb832b9925c4095bbf8c8e267089696', 'clientsecret': '295f3acfff104bb2924787afc1b20a88', 'redirect_uri': 'https://allen-crotty-cs181-final-project.com/callback'}\n"
     ]
    }
   ],
   "source": [
    "with open(\"creds_proj.json\", \"r\") as file:\n",
    "    creds = json.load(file)\n",
    "print(str(creds['spotify']))"
   ]
  },
  {
   "cell_type": "code",
   "execution_count": 3,
   "metadata": {
    "scrolled": true
   },
   "outputs": [
    {
     "name": "stdout",
     "output_type": "stream",
     "text": [
      "https://accounts.spotify.com/authorize\n"
     ]
    }
   ],
   "source": [
    "protocol = \"https\"\n",
    "location = \"accounts.spotify.com\"\n",
    "auth_resource = \"/authorize\"\n",
    "\n",
    "authurl_fmt = \"{}://{}{}\"\n",
    "authurl = authurl_fmt.format(protocol, location, auth_resource)\n",
    "print(authurl)"
   ]
  },
  {
   "cell_type": "code",
   "execution_count": 4,
   "metadata": {},
   "outputs": [
    {
     "data": {
      "text/plain": [
       "{'client_id': 'acb832b9925c4095bbf8c8e267089696',\n",
       " 'redirect_uri': 'https://allen-crotty-cs181-final-project.com/callback',\n",
       " 'response_type': 'code',\n",
       " 'scope': 'user-read-recently-played, user-library-read, user-follow-read, user-top-read',\n",
       " 'state': '123456789'}"
      ]
     },
     "execution_count": 4,
     "metadata": {},
     "output_type": "execute_result"
    }
   ],
   "source": [
    "urlquery = {}\n",
    "urlquery['client_id'] = creds['spotify']['clientid']\n",
    "urlquery['redirect_uri'] = creds['spotify']['redirect_uri']\n",
    "urlquery['response_type'] = 'code'\n",
    "urlquery['state'] = '123456789'\n",
    "urlquery['scope'] = \"user-read-recently-played, user-library-read, user-follow-read, user-top-read\"\n",
    "urlquery"
   ]
  },
  {
   "cell_type": "code",
   "execution_count": 5,
   "metadata": {},
   "outputs": [
    {
     "name": "stdout",
     "output_type": "stream",
     "text": [
      "https://accounts.spotify.com/authorize?client_id=acb832b9925c4095bbf8c8e267089696&redirect_uri=https%3A%2F%2Fallen-crotty-cs181-final-project.com%2Fcallback&response_type=code&state=123456789&scope=user-read-recently-played%2C+user-library-read%2C+user-follow-read%2C+user-top-read\n"
     ]
    }
   ],
   "source": [
    "session = requests.Session() #allows you to keep cookies (cache certain info)\n",
    "p = requests.Request('GET', authurl, params=urlquery).prepare() #allows you to do work on request before it gets sent\n",
    "print(p.url)"
   ]
  },
  {
   "cell_type": "code",
   "execution_count": 7,
   "metadata": {},
   "outputs": [
    {
     "data": {
      "text/plain": [
       "True"
      ]
     },
     "execution_count": 7,
     "metadata": {},
     "output_type": "execute_result"
    }
   ],
   "source": [
    "import webbrowser\n",
    "webbrowser.open(p.url)"
   ]
  },
  {
   "cell_type": "code",
   "execution_count": null,
   "metadata": {},
   "outputs": [],
   "source": [
    "apiUrl = \"https://api.spotify.com/v1/\"\n",
    "artistSearch = apiUrl.join(\"search?query={}/\")"
   ]
  }
 ],
 "metadata": {
  "kernelspec": {
   "display_name": "Python 3",
   "language": "python",
   "name": "python3"
  },
  "language_info": {
   "codemirror_mode": {
    "name": "ipython",
    "version": 3
   },
   "file_extension": ".py",
   "mimetype": "text/x-python",
   "name": "python",
   "nbconvert_exporter": "python",
   "pygments_lexer": "ipython3",
   "version": "3.7.1"
  }
 },
 "nbformat": 4,
 "nbformat_minor": 2
}
